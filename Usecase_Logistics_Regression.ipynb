{
 "cells": [
  {
   "cell_type": "markdown",
   "metadata": {},
   "source": [o8o
    "# Logistics Regression\n",
    "\n",
    "In this usecase, We will create a model using LR that will predict whether or not customer will click on an advertisement\n",
    "This data set contains the following features:\n",
    "\n",
    "* 'Daily Time Spent on Site': consumer time on site in minutes\n",
    "* 'Age': cutomer age in years\n",
    "* 'Area Income': Avg. Income of geographical area of consumer\n",
    "* 'Daily Internet Usage': Avg. minutes a day consumer is on the internet\n",
    "* 'Ad Topic Line': Headline of the advertisement\n",
    "* 'City': City of consumer\n",
    "* 'Male': Whether or not consumer was male\n",
    "* 'Country': Country of consumer\n",
    "* 'Timestamp': Time at which consumer clicked on Ad or closed window\n",
    "* 'Clicked on Ad': 0 or 1 indicated clicking on Ad\n",
    "\n",
    "## Import Libraries\n",
    "\n",
    "**Import a few libraries**"
   ]
  },
  {
   "cell_type": "code",
   "execution_count": 2,
   "metadata": {},
   "outputs": [],
   "source": [
    "import pandas as pd\n",
    "import numpy as np\n",
    "import matplotlib.pyplot as plt\n",
    "import seaborn as sns"
   ]
  },
  {
   "cell_type": "markdown",
   "metadata": {
    "collapsed": true
   },
   "source": [
    "**Get the Data**\n"
   ]
  },
  {
   "cell_type": "code",
   "execution_count": 3,
   "metadata": {},
   "outputs": [],
   "source": [
    "ad_data = pd.read_csv('data-LR.csv')"
   ]
  },
  {
   "cell_type": "markdown",
   "metadata": {},
   "source": [
    "**Explore Data**"
   ]
  },
  {
   "cell_type": "code",
   "execution_count": 4,
   "metadata": {},
   "outputs": [
    {
     "data": {
      "text/html": [
       "<div>\n",
       "<style scoped>\n",
       "    .dataframe tbody tr th:only-of-type {\n",
       "        vertical-align: middle;\n",
       "    }\n",
       "\n",
       "    .dataframe tbody tr th {\n",
       "        vertical-align: top;\n",
       "    }\n",
       "\n",
       "    .dataframe thead th {\n",
       "        text-align: right;\n",
       "    }\n",
       "</style>\n",
       "<table border=\"1\" class=\"dataframe\">\n",
       "  <thead>\n",
       "    <tr style=\"text-align: right;\">\n",
       "      <th></th>\n",
       "      <th>Daily Time Spent on Site</th>\n",
       "      <th>Age</th>\n",
       "      <th>Area Income</th>\n",
       "      <th>Daily Internet Usage</th>\n",
       "      <th>Ad Topic Line</th>\n",
       "      <th>City</th>\n",
       "      <th>Male</th>\n",
       "      <th>Country</th>\n",
       "      <th>Timestamp</th>\n",
       "      <th>Clicked on Ad</th>\n",
       "    </tr>\n",
       "  </thead>\n",
       "  <tbody>\n",
       "    <tr>\n",
       "      <th>0</th>\n",
       "      <td>68.95</td>\n",
       "      <td>35</td>\n",
       "      <td>61833.90</td>\n",
       "      <td>256.09</td>\n",
       "      <td>Cloned 5thgeneration orchestration</td>\n",
       "      <td>Wrightburgh</td>\n",
       "      <td>0</td>\n",
       "      <td>Tunisia</td>\n",
       "      <td>2016-03-27 00:53:11</td>\n",
       "      <td>0</td>\n",
       "    </tr>\n",
       "    <tr>\n",
       "      <th>1</th>\n",
       "      <td>80.23</td>\n",
       "      <td>31</td>\n",
       "      <td>68441.85</td>\n",
       "      <td>193.77</td>\n",
       "      <td>Monitored national standardization</td>\n",
       "      <td>West Jodi</td>\n",
       "      <td>1</td>\n",
       "      <td>Nauru</td>\n",
       "      <td>2016-04-04 01:39:02</td>\n",
       "      <td>0</td>\n",
       "    </tr>\n",
       "    <tr>\n",
       "      <th>2</th>\n",
       "      <td>69.47</td>\n",
       "      <td>26</td>\n",
       "      <td>59785.94</td>\n",
       "      <td>236.50</td>\n",
       "      <td>Organic bottom-line service-desk</td>\n",
       "      <td>Davidton</td>\n",
       "      <td>0</td>\n",
       "      <td>San Marino</td>\n",
       "      <td>2016-03-13 20:35:42</td>\n",
       "      <td>0</td>\n",
       "    </tr>\n",
       "    <tr>\n",
       "      <th>3</th>\n",
       "      <td>74.15</td>\n",
       "      <td>29</td>\n",
       "      <td>54806.18</td>\n",
       "      <td>245.89</td>\n",
       "      <td>Triple-buffered reciprocal time-frame</td>\n",
       "      <td>West Terrifurt</td>\n",
       "      <td>1</td>\n",
       "      <td>Italy</td>\n",
       "      <td>2016-01-10 02:31:19</td>\n",
       "      <td>0</td>\n",
       "    </tr>\n",
       "    <tr>\n",
       "      <th>4</th>\n",
       "      <td>68.37</td>\n",
       "      <td>35</td>\n",
       "      <td>73889.99</td>\n",
       "      <td>225.58</td>\n",
       "      <td>Robust logistical utilization</td>\n",
       "      <td>South Manuel</td>\n",
       "      <td>0</td>\n",
       "      <td>Iceland</td>\n",
       "      <td>2016-06-03 03:36:18</td>\n",
       "      <td>0</td>\n",
       "    </tr>\n",
       "    <tr>\n",
       "      <th>5</th>\n",
       "      <td>59.99</td>\n",
       "      <td>23</td>\n",
       "      <td>59761.56</td>\n",
       "      <td>226.74</td>\n",
       "      <td>Sharable client-driven software</td>\n",
       "      <td>Jamieberg</td>\n",
       "      <td>1</td>\n",
       "      <td>Norway</td>\n",
       "      <td>2016-05-19 14:30:17</td>\n",
       "      <td>0</td>\n",
       "    </tr>\n",
       "    <tr>\n",
       "      <th>6</th>\n",
       "      <td>88.91</td>\n",
       "      <td>33</td>\n",
       "      <td>53852.85</td>\n",
       "      <td>208.36</td>\n",
       "      <td>Enhanced dedicated support</td>\n",
       "      <td>Brandonstad</td>\n",
       "      <td>0</td>\n",
       "      <td>Myanmar</td>\n",
       "      <td>2016-01-28 20:59:32</td>\n",
       "      <td>0</td>\n",
       "    </tr>\n",
       "    <tr>\n",
       "      <th>7</th>\n",
       "      <td>66.00</td>\n",
       "      <td>48</td>\n",
       "      <td>24593.33</td>\n",
       "      <td>131.76</td>\n",
       "      <td>Reactive local challenge</td>\n",
       "      <td>Port Jefferybury</td>\n",
       "      <td>1</td>\n",
       "      <td>Australia</td>\n",
       "      <td>2016-03-07 01:40:15</td>\n",
       "      <td>1</td>\n",
       "    </tr>\n",
       "    <tr>\n",
       "      <th>8</th>\n",
       "      <td>74.53</td>\n",
       "      <td>30</td>\n",
       "      <td>68862.00</td>\n",
       "      <td>221.51</td>\n",
       "      <td>Configurable coherent function</td>\n",
       "      <td>West Colin</td>\n",
       "      <td>1</td>\n",
       "      <td>Grenada</td>\n",
       "      <td>2016-04-18 09:33:42</td>\n",
       "      <td>0</td>\n",
       "    </tr>\n",
       "    <tr>\n",
       "      <th>9</th>\n",
       "      <td>69.88</td>\n",
       "      <td>20</td>\n",
       "      <td>55642.32</td>\n",
       "      <td>183.82</td>\n",
       "      <td>Mandatory homogeneous architecture</td>\n",
       "      <td>Ramirezton</td>\n",
       "      <td>1</td>\n",
       "      <td>Ghana</td>\n",
       "      <td>2016-07-11 01:42:51</td>\n",
       "      <td>0</td>\n",
       "    </tr>\n",
       "  </tbody>\n",
       "</table>\n",
       "</div>"
      ],
      "text/plain": [
       "   Daily Time Spent on Site  Age  Area Income  Daily Internet Usage  \\\n",
       "0                     68.95   35     61833.90                256.09   \n",
       "1                     80.23   31     68441.85                193.77   \n",
       "2                     69.47   26     59785.94                236.50   \n",
       "3                     74.15   29     54806.18                245.89   \n",
       "4                     68.37   35     73889.99                225.58   \n",
       "5                     59.99   23     59761.56                226.74   \n",
       "6                     88.91   33     53852.85                208.36   \n",
       "7                     66.00   48     24593.33                131.76   \n",
       "8                     74.53   30     68862.00                221.51   \n",
       "9                     69.88   20     55642.32                183.82   \n",
       "\n",
       "                           Ad Topic Line              City  Male     Country  \\\n",
       "0     Cloned 5thgeneration orchestration       Wrightburgh     0     Tunisia   \n",
       "1     Monitored national standardization         West Jodi     1       Nauru   \n",
       "2       Organic bottom-line service-desk          Davidton     0  San Marino   \n",
       "3  Triple-buffered reciprocal time-frame    West Terrifurt     1       Italy   \n",
       "4          Robust logistical utilization      South Manuel     0     Iceland   \n",
       "5        Sharable client-driven software         Jamieberg     1      Norway   \n",
       "6             Enhanced dedicated support       Brandonstad     0     Myanmar   \n",
       "7               Reactive local challenge  Port Jefferybury     1   Australia   \n",
       "8         Configurable coherent function        West Colin     1     Grenada   \n",
       "9     Mandatory homogeneous architecture        Ramirezton     1       Ghana   \n",
       "\n",
       "             Timestamp  Clicked on Ad  \n",
       "0  2016-03-27 00:53:11              0  \n",
       "1  2016-04-04 01:39:02              0  \n",
       "2  2016-03-13 20:35:42              0  \n",
       "3  2016-01-10 02:31:19              0  \n",
       "4  2016-06-03 03:36:18              0  \n",
       "5  2016-05-19 14:30:17              0  \n",
       "6  2016-01-28 20:59:32              0  \n",
       "7  2016-03-07 01:40:15              1  \n",
       "8  2016-04-18 09:33:42              0  \n",
       "9  2016-07-11 01:42:51              0  "
      ]
     },
     "execution_count": 4,
     "metadata": {},
     "output_type": "execute_result"
    }
   ],
   "source": [
    "ad_data.head(n=10)"
   ]
  },
  {
   "cell_type": "code",
   "execution_count": 5,
   "metadata": {},
   "outputs": [
    {
     "data": {
      "text/plain": [
       "Daily Time Spent on Site    0\n",
       "Age                         0\n",
       "Area Income                 0\n",
       "Daily Internet Usage        0\n",
       "Ad Topic Line               0\n",
       "City                        0\n",
       "Male                        0\n",
       "Country                     0\n",
       "Timestamp                   0\n",
       "Clicked on Ad               0\n",
       "dtype: int64"
      ]
     },
     "execution_count": 5,
     "metadata": {},
     "output_type": "execute_result"
    }
   ],
   "source": [
    "ad_data.isnull().sum()"
   ]
  },
  {
   "cell_type": "markdown",
   "metadata": {},
   "source": [
    "** Use info and describe() on ad_data**"
   ]
  },
  {
   "cell_type": "code",
   "execution_count": 6,
   "metadata": {},
   "outputs": [
    {
     "data": {
      "text/plain": [
       "(1000, 10)"
      ]
     },
     "execution_count": 6,
     "metadata": {},
     "output_type": "execute_result"
    }
   ],
   "source": [
    "ad_data.shape"
   ]
  },
  {
   "cell_type": "code",
   "execution_count": 7,
   "metadata": {},
   "outputs": [
    {
     "data": {
      "text/html": [
       "<div>\n",
       "<style scoped>\n",
       "    .dataframe tbody tr th:only-of-type {\n",
       "        vertical-align: middle;\n",
       "    }\n",
       "\n",
       "    .dataframe tbody tr th {\n",
       "        vertical-align: top;\n",
       "    }\n",
       "\n",
       "    .dataframe thead th {\n",
       "        text-align: right;\n",
       "    }\n",
       "</style>\n",
       "<table border=\"1\" class=\"dataframe\">\n",
       "  <thead>\n",
       "    <tr style=\"text-align: right;\">\n",
       "      <th></th>\n",
       "      <th>Daily Time Spent on Site</th>\n",
       "      <th>Age</th>\n",
       "      <th>Area Income</th>\n",
       "      <th>Daily Internet Usage</th>\n",
       "      <th>Male</th>\n",
       "      <th>Clicked on Ad</th>\n",
       "    </tr>\n",
       "  </thead>\n",
       "  <tbody>\n",
       "    <tr>\n",
       "      <th>count</th>\n",
       "      <td>1000.000000</td>\n",
       "      <td>1000.000000</td>\n",
       "      <td>1000.000000</td>\n",
       "      <td>1000.000000</td>\n",
       "      <td>1000.000000</td>\n",
       "      <td>1000.00000</td>\n",
       "    </tr>\n",
       "    <tr>\n",
       "      <th>mean</th>\n",
       "      <td>65.000200</td>\n",
       "      <td>36.009000</td>\n",
       "      <td>55000.000080</td>\n",
       "      <td>180.000100</td>\n",
       "      <td>0.481000</td>\n",
       "      <td>0.50000</td>\n",
       "    </tr>\n",
       "    <tr>\n",
       "      <th>std</th>\n",
       "      <td>15.853615</td>\n",
       "      <td>8.785562</td>\n",
       "      <td>13414.634022</td>\n",
       "      <td>43.902339</td>\n",
       "      <td>0.499889</td>\n",
       "      <td>0.50025</td>\n",
       "    </tr>\n",
       "    <tr>\n",
       "      <th>min</th>\n",
       "      <td>32.600000</td>\n",
       "      <td>19.000000</td>\n",
       "      <td>13996.500000</td>\n",
       "      <td>104.780000</td>\n",
       "      <td>0.000000</td>\n",
       "      <td>0.00000</td>\n",
       "    </tr>\n",
       "    <tr>\n",
       "      <th>25%</th>\n",
       "      <td>51.360000</td>\n",
       "      <td>29.000000</td>\n",
       "      <td>47031.802500</td>\n",
       "      <td>138.830000</td>\n",
       "      <td>0.000000</td>\n",
       "      <td>0.00000</td>\n",
       "    </tr>\n",
       "    <tr>\n",
       "      <th>50%</th>\n",
       "      <td>68.215000</td>\n",
       "      <td>35.000000</td>\n",
       "      <td>57012.300000</td>\n",
       "      <td>183.130000</td>\n",
       "      <td>0.000000</td>\n",
       "      <td>0.50000</td>\n",
       "    </tr>\n",
       "    <tr>\n",
       "      <th>75%</th>\n",
       "      <td>78.547500</td>\n",
       "      <td>42.000000</td>\n",
       "      <td>65470.635000</td>\n",
       "      <td>218.792500</td>\n",
       "      <td>1.000000</td>\n",
       "      <td>1.00000</td>\n",
       "    </tr>\n",
       "    <tr>\n",
       "      <th>max</th>\n",
       "      <td>91.430000</td>\n",
       "      <td>61.000000</td>\n",
       "      <td>79484.800000</td>\n",
       "      <td>269.960000</td>\n",
       "      <td>1.000000</td>\n",
       "      <td>1.00000</td>\n",
       "    </tr>\n",
       "  </tbody>\n",
       "</table>\n",
       "</div>"
      ],
      "text/plain": [
       "       Daily Time Spent on Site          Age   Area Income  \\\n",
       "count               1000.000000  1000.000000   1000.000000   \n",
       "mean                  65.000200    36.009000  55000.000080   \n",
       "std                   15.853615     8.785562  13414.634022   \n",
       "min                   32.600000    19.000000  13996.500000   \n",
       "25%                   51.360000    29.000000  47031.802500   \n",
       "50%                   68.215000    35.000000  57012.300000   \n",
       "75%                   78.547500    42.000000  65470.635000   \n",
       "max                   91.430000    61.000000  79484.800000   \n",
       "\n",
       "       Daily Internet Usage         Male  Clicked on Ad  \n",
       "count           1000.000000  1000.000000     1000.00000  \n",
       "mean             180.000100     0.481000        0.50000  \n",
       "std               43.902339     0.499889        0.50025  \n",
       "min              104.780000     0.000000        0.00000  \n",
       "25%              138.830000     0.000000        0.00000  \n",
       "50%              183.130000     0.000000        0.50000  \n",
       "75%              218.792500     1.000000        1.00000  \n",
       "max              269.960000     1.000000        1.00000  "
      ]
     },
     "execution_count": 7,
     "metadata": {},
     "output_type": "execute_result"
    }
   ],
   "source": [
    "ad_data.describe()"
   ]
  },
  {
   "cell_type": "code",
   "execution_count": 8,
   "metadata": {},
   "outputs": [
    {
     "data": {
      "text/plain": [
       "Text(0.5, 0, 'Age')"
      ]
     },
     "execution_count": 8,
     "metadata": {},
     "output_type": "execute_result"
    },
    {
     "data": {
      "image/png": "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\n",
      "text/plain": [
       "<Figure size 432x288 with 1 Axes>"
      ]
     },
     "metadata": {},
     "output_type": "display_data"
    }
   ],
   "source": [
    "sns.set_style('whitegrid')\n",
    "ad_data['Age'].hist()\n",
    "plt.xlabel('Age')"
   ]
  },
  {
   "cell_type": "markdown",
   "metadata": {},
   "source": [
    "**Split the data into training set and testing set using train_test_split**"
   ]
  },
  {
   "cell_type": "code",
   "execution_count": 9,
   "metadata": {},
   "outputs": [],
   "source": [
    "from sklearn.model_selection import train_test_split"
   ]
  },
  {
   "cell_type": "code",
   "execution_count": 10,
   "metadata": {},
   "outputs": [],
   "source": [
    "X = ad_data[['Daily Time Spent on Site', 'Age', 'Area Income','Daily Internet Usage', 'Male']]\n",
    "y = ad_data['Clicked on Ad']"
   ]
  },
  {
   "cell_type": "code",
   "execution_count": 11,
   "metadata": {},
   "outputs": [],
   "source": [
    "X_train, X_test, y_train, y_test = train_test_split(X, y, test_size=0.33, random_state=42)"
   ]
  },
  {
   "cell_type": "markdown",
   "metadata": {},
   "source": [
    "**Pass training data to an algorithm and prepare a model**"
   ]
  },
  {
   "cell_type": "code",
   "execution_count": 15,
   "metadata": {},
   "outputs": [],
   "source": [
    "from sklearn.linear_model import LogisticRegression"
   ]
  },
  {
   "cell_type": "code",
   "execution_count": 16,
   "metadata": {},
   "outputs": [
    {
     "name": "stderr",
     "output_type": "stream",
     "text": [
      "C:\\Users\\nitin\\Anaconda3\\lib\\site-packages\\sklearn\\linear_model\\logistic.py:433: FutureWarning: Default solver will be changed to 'lbfgs' in 0.22. Specify a solver to silence this warning.\n",
      "  FutureWarning)\n"
     ]
    },
    {
     "data": {
      "text/plain": [
       "LogisticRegression(C=1.0, class_weight=None, dual=False, fit_intercept=True,\n",
       "          intercept_scaling=1, max_iter=100, multi_class='warn',\n",
       "          n_jobs=None, penalty='l2', random_state=None, solver='warn',\n",
       "          tol=0.0001, verbose=0, warm_start=False)"
      ]
     },
     "execution_count": 16,
     "metadata": {},
     "output_type": "execute_result"
    }
   ],
   "source": [
    "logmodel = LogisticRegression()\n",
    "logmodel.fit(X_train,y_train)\n"
   ]
  },
  {
   "cell_type": "code",
   "execution_count": 17,
   "metadata": {},
   "outputs": [],
   "source": [
    "# Test Model by passing test data\n",
    "predictions = logmodel.predict(X_test)"
   ]
  },
  {
   "cell_type": "code",
   "execution_count": 18,
   "metadata": {},
   "outputs": [
    {
     "data": {
      "text/plain": [
       "array([1, 1, 1, 1, 0, 0, 0, 1, 0, 1, 0, 1, 1, 0, 1, 1, 1, 1, 0, 1, 0, 1,\n",
       "       1, 0, 0, 1, 0, 0, 1, 1, 0, 1, 0, 1, 1, 0, 0, 0, 1, 1, 0, 1, 0, 1,\n",
       "       0, 0, 1, 1, 0, 1, 1, 0, 1, 0, 0, 0, 0, 1, 0, 1, 0, 1, 0, 1, 1, 1,\n",
       "       1, 0, 1, 1, 1, 1, 0, 0, 1, 0, 0, 1, 0, 0, 1, 1, 1, 1, 0, 0, 0, 0,\n",
       "       0, 0, 0, 0, 0, 1, 0, 0, 1, 1, 0, 0, 1, 0, 1, 0, 1, 1, 1, 0, 1, 0,\n",
       "       1, 0, 1, 1, 0, 1, 0, 0, 0, 0, 1, 1, 1, 0, 0, 0, 1, 0, 0, 1, 1, 1,\n",
       "       1, 0, 0, 0, 0, 0, 0, 1, 0, 0, 1, 0, 0, 1, 1, 0, 0, 0, 0, 0, 1, 0,\n",
       "       1, 0, 1, 0, 0, 0, 1, 1, 0, 0, 1, 0, 0, 0, 0, 0, 1, 0, 1, 0, 1, 1,\n",
       "       1, 1, 1, 1, 1, 0, 1, 1, 1, 1, 0, 1, 1, 1, 0, 1, 0, 0, 1, 1, 1, 1,\n",
       "       0, 1, 0, 0, 0, 0, 1, 0, 1, 0, 0, 0, 0, 1, 1, 1, 1, 0, 0, 0, 0, 1,\n",
       "       0, 0, 1, 1, 0, 0, 0, 0, 0, 0, 0, 0, 0, 1, 0, 0, 1, 0, 1, 0, 0, 0,\n",
       "       0, 0, 0, 0, 0, 0, 0, 0, 1, 1, 1, 0, 0, 0, 1, 1, 1, 0, 0, 1, 1, 0,\n",
       "       1, 0, 1, 0, 0, 1, 1, 1, 1, 0, 1, 0, 1, 0, 0, 0, 1, 0, 0, 0, 1, 0,\n",
       "       0, 0, 1, 1, 0, 0, 0, 1, 0, 1, 0, 1, 1, 0, 0, 1, 0, 1, 1, 1, 0, 1,\n",
       "       0, 0, 1, 1, 1, 0, 1, 0, 0, 0, 0, 0, 1, 1, 1, 1, 0, 0, 0, 1, 0, 0],\n",
       "      dtype=int64)"
      ]
     },
     "execution_count": 18,
     "metadata": {},
     "output_type": "execute_result"
    }
   ],
   "source": [
    "predictions"
   ]
  },
  {
   "cell_type": "code",
   "execution_count": 19,
   "metadata": {},
   "outputs": [
    {
     "data": {
      "text/plain": [
       "521    1\n",
       "737    1\n",
       "740    1\n",
       "660    1\n",
       "411    0\n",
       "678    0\n",
       "626    0\n",
       "513    1\n",
       "859    0\n",
       "136    1\n",
       "811    0\n",
       "76     1\n",
       "636    1\n",
       "973    0\n",
       "938    1\n",
       "899    1\n",
       "280    1\n",
       "883    1\n",
       "761    0\n",
       "319    1\n",
       "549    0\n",
       "174    1\n",
       "371    1\n",
       "527    0\n",
       "210    0\n",
       "235    1\n",
       "101    0\n",
       "986    0\n",
       "902    1\n",
       "947    1\n",
       "      ..\n",
       "541    0\n",
       "440    1\n",
       "482    0\n",
       "422    1\n",
       "778    1\n",
       "949    1\n",
       "334    0\n",
       "576    1\n",
       "934    0\n",
       "567    0\n",
       "594    1\n",
       "530    1\n",
       "581    1\n",
       "707    0\n",
       "448    1\n",
       "453    0\n",
       "228    0\n",
       "352    0\n",
       "728    0\n",
       "212    0\n",
       "79     1\n",
       "148    1\n",
       "302    1\n",
       "628    1\n",
       "777    0\n",
       "506    0\n",
       "342    0\n",
       "485    1\n",
       "711    0\n",
       "133    0\n",
       "Name: Clicked on Ad, Length: 330, dtype: int64"
      ]
     },
     "execution_count": 19,
     "metadata": {},
     "output_type": "execute_result"
    }
   ],
   "source": [
    "y_test"
   ]
  },
  {
   "cell_type": "markdown",
   "metadata": {},
   "source": [
    "**Evaluate Model Accuracy using Confusion Matrix**"
   ]
  },
  {
   "cell_type": "code",
   "execution_count": 20,
   "metadata": {},
   "outputs": [],
   "source": [
    "from sklearn.metrics import confusion_matrix"
   ]
  },
  {
   "cell_type": "code",
   "execution_count": 21,
   "metadata": {},
   "outputs": [
    {
     "data": {
      "text/plain": [
       "array([[156,   6],\n",
       "       [ 24, 144]], dtype=int64)"
      ]
     },
     "execution_count": 21,
     "metadata": {},
     "output_type": "execute_result"
    }
   ],
   "source": [
    "confusion_matrix(y_test, predictions)"
   ]
  },
  {
   "cell_type": "code",
   "execution_count": 22,
   "metadata": {},
   "outputs": [
    {
     "data": {
      "text/plain": [
       "0.9090909090909091"
      ]
     },
     "execution_count": 22,
     "metadata": {},
     "output_type": "execute_result"
    }
   ],
   "source": [
    "from sklearn.metrics import accuracy_score\n",
    "accuracy_score(y_test, predictions)"
   ]
  },
  {
   "cell_type": "markdown",
   "metadata": {},
   "source": [
    "**Predict for new data**"
   ]
  },
  {
   "cell_type": "code",
   "execution_count": 15,
   "metadata": {},
   "outputs": [],
   "source": [
    "newdata = pd.read_csv(\"newdata.csv\")"
   ]
  },
  {
   "cell_type": "code",
   "execution_count": 16,
   "metadata": {},
   "outputs": [
    {
     "data": {
      "text/html": [
       "<div>\n",
       "<style scoped>\n",
       "    .dataframe tbody tr th:only-of-type {\n",
       "        vertical-align: middle;\n",
       "    }\n",
       "\n",
       "    .dataframe tbody tr th {\n",
       "        vertical-align: top;\n",
       "    }\n",
       "\n",
       "    .dataframe thead th {\n",
       "        text-align: right;\n",
       "    }\n",
       "</style>\n",
       "<table border=\"1\" class=\"dataframe\">\n",
       "  <thead>\n",
       "    <tr style=\"text-align: right;\">\n",
       "      <th></th>\n",
       "      <th>Daily Time Spent on Site</th>\n",
       "      <th>Age</th>\n",
       "      <th>Area Income</th>\n",
       "      <th>Daily Internet Usage</th>\n",
       "      <th>Male</th>\n",
       "    </tr>\n",
       "  </thead>\n",
       "  <tbody>\n",
       "    <tr>\n",
       "      <th>0</th>\n",
       "      <td>64.26</td>\n",
       "      <td>30</td>\n",
       "      <td>54797.37</td>\n",
       "      <td>110.46</td>\n",
       "      <td>1</td>\n",
       "    </tr>\n",
       "  </tbody>\n",
       "</table>\n",
       "</div>"
      ],
      "text/plain": [
       "   Daily Time Spent on Site  Age  Area Income  Daily Internet Usage  Male\n",
       "0                     64.26   30     54797.37                110.46     1"
      ]
     },
     "execution_count": 16,
     "metadata": {},
     "output_type": "execute_result"
    }
   ],
   "source": [
    "newdata"
   ]
  },
  {
   "cell_type": "code",
   "execution_count": 17,
   "metadata": {},
   "outputs": [],
   "source": [
    "predictions = logmodel.predict(newdata)"
   ]
  },
  {
   "cell_type": "code",
   "execution_count": 18,
   "metadata": {},
   "outputs": [
    {
     "data": {
      "text/plain": [
       "1"
      ]
     },
     "execution_count": 18,
     "metadata": {},
     "output_type": "execute_result"
    }
   ],
   "source": [
    "predictions[0]"
   ]
  }
 ],
 "metadata": {
  "kernelspec": {
   "display_name": "Python 3",
   "language": "python",
   "name": "python3"
  },
  "language_info": {
   "codemirror_mode": {
    "name": "ipython",
    "version": 3
   },
   "file_extension": ".py",
   "mimetype": "text/x-python",
   "name": "python",
   "nbconvert_exporter": "python",
   "pygments_lexer": "ipython3",
   "version": "3.7.3"
  }
 },
 "nbformat": 4,
 "nbformat_minor": 1
}
